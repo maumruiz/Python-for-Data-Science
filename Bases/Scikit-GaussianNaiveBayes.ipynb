{
 "cells": [
  {
   "cell_type": "code",
   "execution_count": 2,
   "metadata": {},
   "outputs": [],
   "source": [
    "from sklearn.naive_bayes import GaussianNB\n",
    "\n",
    "#[height, weight, shoe size]\n",
    "X = [[181,80,44], [177,70,43], [160,60,38], [154,54,37],\n",
    "     [166,65,40], [190,90,47], [175,64,39], [177,70,40],\n",
    "     [159,55,37], [171,75,42], [181,85,43]]\n",
    "\n",
    "Y = ['male', 'female', 'female', 'female', 'male', 'male',\n",
    "     'male', 'female', 'male', 'female', 'male']\n",
    "\n",
    "gnb = GaussianNB()\n",
    "\n",
    "clf = gnb.fit(X, Y)"
   ]
  },
  {
   "cell_type": "code",
   "execution_count": 3,
   "metadata": {},
   "outputs": [
    {
     "name": "stdout",
     "output_type": "stream",
     "text": [
      "['male']\n"
     ]
    }
   ],
   "source": [
    "prediction = clf.predict([[190,70,49]])\n",
    "print prediction"
   ]
  },
  {
   "cell_type": "code",
   "execution_count": 4,
   "metadata": {},
   "outputs": [
    {
     "name": "stdout",
     "output_type": "stream",
     "text": [
      "['female']\n"
     ]
    }
   ],
   "source": [
    "prediction = clf.predict([[157,45,38]])\n",
    "print prediction"
   ]
  },
  {
   "cell_type": "code",
   "execution_count": null,
   "metadata": {
    "collapsed": true
   },
   "outputs": [],
   "source": []
  }
 ],
 "metadata": {
  "kernelspec": {
   "display_name": "Python 2",
   "language": "python",
   "name": "python2"
  },
  "language_info": {
   "codemirror_mode": {
    "name": "ipython",
    "version": 2
   },
   "file_extension": ".py",
   "mimetype": "text/x-python",
   "name": "python",
   "nbconvert_exporter": "python",
   "pygments_lexer": "ipython2",
   "version": "2.7.12"
  }
 },
 "nbformat": 4,
 "nbformat_minor": 2
}
