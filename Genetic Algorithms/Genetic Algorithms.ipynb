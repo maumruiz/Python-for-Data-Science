{
 "cells": [
  {
   "cell_type": "markdown",
   "metadata": {},
   "source": [
    "# Genetic Algorithms"
   ]
  },
  {
   "cell_type": "markdown",
   "metadata": {},
   "source": [
    "### Using genetic algorithms to pick the best Machine Learning model and hyper parameters to solve a problem"
   ]
  },
  {
   "cell_type": "code",
   "execution_count": 2,
   "metadata": {},
   "outputs": [
    {
     "name": "stderr",
     "output_type": "stream",
     "text": [
      "/home/mauruiz/tensorflow/local/lib/python2.7/site-packages/sklearn/cross_validation.py:41: DeprecationWarning: This module was deprecated in version 0.18 in favor of the model_selection module into which all the refactored classes and functions are moved. Also note that the interface of the new CV iterators are different from that of this module. This module will be removed in 0.20.\n",
      "  \"This module will be removed in 0.20.\", DeprecationWarning)\n"
     ]
    }
   ],
   "source": [
    "from tpot import TPOTClassifier\n",
    "from sklearn.cross_validation import train_test_split\n",
    "import pandas as pd\n",
    "import numpy as np"
   ]
  },
  {
   "cell_type": "code",
   "execution_count": 3,
   "metadata": {},
   "outputs": [
    {
     "name": "stdout",
     "output_type": "stream",
     "text": [
      "Warning: xgboost.XGBClassifier is not available and will not be used by TPOT.\n"
     ]
    },
    {
     "name": "stderr",
     "output_type": "stream",
     "text": [
      "Widget Javascript not detected.  It may not be installed or enabled properly.\n"
     ]
    },
    {
     "data": {
      "application/vnd.jupyter.widget-view+json": {
       "model_id": "2ebb4208d633462083bea2b99076c1fb"
      }
     },
     "metadata": {},
     "output_type": "display_data"
    },
    {
     "name": "stdout",
     "output_type": "stream",
     "text": [
      "Generation 1 - Current best internal CV score: 0.87662097172\n",
      "Generation 2 - Current best internal CV score: 0.878023004788\n",
      "Generation 3 - Current best internal CV score: 0.878303190125\n",
      "Generation 4 - Current best internal CV score: 0.880055608565\n",
      "Generation 5 - Current best internal CV score: 0.880055608565\n",
      "\n",
      "Best pipeline: GradientBoostingClassifier(input_matrix, learning_rate=0.1, max_depth=8, max_features=0.95, min_samples_leaf=3, min_samples_split=10, n_estimators=100, subsample=0.55)\n"
     ]
    },
    {
     "data": {
      "text/plain": [
       "True"
      ]
     },
     "execution_count": 3,
     "metadata": {},
     "output_type": "execute_result"
    }
   ],
   "source": [
    "#load the data\n",
    "telescope = pd.read_csv('MAGIC Gamma Telescope Data.csv')\n",
    "\n",
    "# Clean the data\n",
    "telescope_shuffle = telescope.iloc[np.random.permutation(len(telescope))]\n",
    "tele = telescope_shuffle.reset_index(drop=True)\n",
    "\n",
    "# Store 2 classes\n",
    "tele['Class'] = tele['Class'].map({'g':0, 'h':1})\n",
    "tele_class = tele['Class'].values\n",
    "\n",
    "# Split training, testing and validation data\n",
    "training_indices, validation_indices = training_indices, testing_indices = train_test_split(tele.index, \n",
    "    stratify=tele_class, train_size=0.75, test_size=0.25)\n",
    "\n",
    "# Let Genetic Programming find best ML model and hyperparameters\n",
    "tpot = TPOTClassifier(generations=5, verbosity=2)\n",
    "tpot.fit(tele.drop('Class', axis=1).loc[training_indices].values,\n",
    "    tele.loc[training_indices, 'Class'].values)\n",
    "\n",
    "#Score the accuracy\n",
    "tpot.score(tele.drop('Class', axis=1).loc[validation_indices].values,\n",
    "    tele.loc[validation_indices, 'Class'].values)\n",
    "\n",
    "#Export the generated code\n",
    "tpot.export('pipeline.py')"
   ]
  }
 ],
 "metadata": {
  "kernelspec": {
   "display_name": "Python 2",
   "language": "python",
   "name": "python2"
  },
  "language_info": {
   "codemirror_mode": {
    "name": "ipython",
    "version": 2
   },
   "file_extension": ".py",
   "mimetype": "text/x-python",
   "name": "python",
   "nbconvert_exporter": "python",
   "pygments_lexer": "ipython2",
   "version": "2.7.12"
  }
 },
 "nbformat": 4,
 "nbformat_minor": 2
}
