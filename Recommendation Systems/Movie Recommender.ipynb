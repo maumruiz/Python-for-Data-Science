{
 "cells": [
  {
   "cell_type": "markdown",
   "metadata": {},
   "source": [
    "# Movie Recommender"
   ]
  },
  {
   "cell_type": "code",
   "execution_count": 8,
   "metadata": {},
   "outputs": [
    {
     "data": {
      "text/plain": [
       "<943x1682 sparse matrix of type '<type 'numpy.int32'>'\n",
       "\twith 49906 stored elements in COOrdinate format>"
      ]
     },
     "execution_count": 8,
     "metadata": {},
     "output_type": "execute_result"
    }
   ],
   "source": [
    "import numpy as np\n",
    "from lightfm.datasets import fetch_movielens\n",
    "from lightfm import LightFM\n",
    "\n",
    "# Fetch data and format it\n",
    "data = fetch_movielens(min_rating=4.0)\n",
    "\n",
    "data['train']"
   ]
  },
  {
   "cell_type": "code",
   "execution_count": 9,
   "metadata": {},
   "outputs": [
    {
     "data": {
      "text/plain": [
       "<943x1682 sparse matrix of type '<type 'numpy.int32'>'\n",
       "\twith 5469 stored elements in COOrdinate format>"
      ]
     },
     "execution_count": 9,
     "metadata": {},
     "output_type": "execute_result"
    }
   ],
   "source": [
    "data['test']"
   ]
  },
  {
   "cell_type": "code",
   "execution_count": 10,
   "metadata": {},
   "outputs": [
    {
     "name": "stdout",
     "output_type": "stream",
     "text": [
      "User 3\n",
      "      Known positives:\n",
      "           Seven (Se7en) (1995)\n",
      "           Contact (1997)\n",
      "           Starship Troopers (1997)\n",
      "      Recommended:\n",
      "           Contact (1997)\n",
      "           Titanic (1997)\n",
      "           Scream (1996)\n",
      "User 25\n",
      "      Known positives:\n",
      "           Dead Man Walking (1995)\n",
      "           Star Wars (1977)\n",
      "           Fargo (1996)\n",
      "      Recommended:\n",
      "           Fargo (1996)\n",
      "           English Patient, The (1996)\n",
      "           Godfather, The (1972)\n",
      "User 450\n",
      "      Known positives:\n",
      "           Contact (1997)\n",
      "           George of the Jungle (1997)\n",
      "           Event Horizon (1997)\n",
      "      Recommended:\n",
      "           Conspiracy Theory (1997)\n",
      "           Air Force One (1997)\n",
      "           I Know What You Did Last Summer (1997)\n"
     ]
    }
   ],
   "source": [
    "# Create model\n",
    "model = LightFM(loss='warp')\n",
    "\n",
    "# Train model\n",
    "model.fit(data['train'], epochs=30, num_threads=2)\n",
    "\n",
    "def sample_recommendation(model, data, user_ids):\n",
    "    # number of users and movies in training data\n",
    "    n_users, n_items = data['train'].shape\n",
    "    \n",
    "    # generate recommendations for each user we input\n",
    "    for user_id in user_ids:\n",
    "        # movies they already like\n",
    "        known_positives = data['item_labels'][data['train'].tocsr()[user_id].indices]\n",
    "        \n",
    "        # movies our model predicts they will like\n",
    "        scores = model.predict(user_id, np.arange(n_items))\n",
    "        \n",
    "        #rank them in order of most liked to least\n",
    "        top_items = data['item_labels'][np.argsort(-scores)]\n",
    "        \n",
    "        #print out the results\n",
    "        print(\"User %s\" % user_id)\n",
    "        print(\"      Known positives:\")\n",
    "        \n",
    "        for x in known_positives[:3]:\n",
    "            print(\"           %s\" % x)\n",
    "            \n",
    "        print(\"      Recommended:\")\n",
    "        \n",
    "        for x in top_items[:3]:\n",
    "            print(\"           %s\" % x)\n",
    "            \n",
    "sample_recommendation(model, data, [3, 25, 450])"
   ]
  },
  {
   "cell_type": "code",
   "execution_count": 21,
   "metadata": {},
   "outputs": [
    {
     "data": {
      "text/plain": [
       "array([u'Seven (Se7en) (1995)', u'Contact (1997)',\n",
       "       u'Starship Troopers (1997)', u'Air Force One (1997)',\n",
       "       u'In & Out (1997)', u'Lost Highway (1997)', u'Cop Land (1997)',\n",
       "       u'Desperate Measures (1998)', u'Assignment, The (1997)',\n",
       "       u'Wonderland (1997)', u'Blues Brothers 2000 (1998)'], dtype=object)"
      ]
     },
     "execution_count": 21,
     "metadata": {},
     "output_type": "execute_result"
    }
   ],
   "source": [
    "data['item_labels'][data['train'].tocsr()[3].indices]"
   ]
  },
  {
   "cell_type": "code",
   "execution_count": null,
   "metadata": {
    "collapsed": true
   },
   "outputs": [],
   "source": []
  }
 ],
 "metadata": {
  "kernelspec": {
   "display_name": "Python 2",
   "language": "python",
   "name": "python2"
  },
  "language_info": {
   "codemirror_mode": {
    "name": "ipython",
    "version": 2
   },
   "file_extension": ".py",
   "mimetype": "text/x-python",
   "name": "python",
   "nbconvert_exporter": "python",
   "pygments_lexer": "ipython2",
   "version": "2.7.12"
  }
 },
 "nbformat": 4,
 "nbformat_minor": 2
}
