{
 "cells": [
  {
   "cell_type": "markdown",
   "metadata": {},
   "source": [
    "# Twitter Sentiment Analyzer using the natural language library TextBlob"
   ]
  },
  {
   "cell_type": "markdown",
   "metadata": {},
   "source": [
    "## First, a textblob demo"
   ]
  },
  {
   "cell_type": "code",
   "execution_count": 1,
   "metadata": {},
   "outputs": [
    {
     "data": {
      "text/plain": [
       "[('Mauricio', u'NNP'),\n",
       " ('is', u'VBZ'),\n",
       " ('angry', u'JJ'),\n",
       " ('because', u'IN'),\n",
       " ('he', u'PRP'),\n",
       " ('has', u'VBZ'),\n",
       " ('not', u'RB'),\n",
       " ('eaten', u'VBN'),\n",
       " ('all', u'DT'),\n",
       " ('day', u'NN')]"
      ]
     },
     "execution_count": 1,
     "metadata": {},
     "output_type": "execute_result"
    }
   ],
   "source": [
    "from textblob import TextBlob\n",
    "wiki = TextBlob(\"Mauricio is angry because he has not eaten all day\")\n",
    "\n",
    "wiki.tags"
   ]
  },
  {
   "cell_type": "code",
   "execution_count": 2,
   "metadata": {},
   "outputs": [
    {
     "data": {
      "text/plain": [
       "WordList(['Mauricio', 'is', 'angry', 'because', 'he', 'has', 'not', 'eaten', 'all', 'day'])"
      ]
     },
     "execution_count": 2,
     "metadata": {},
     "output_type": "execute_result"
    }
   ],
   "source": [
    "wiki.words"
   ]
  },
  {
   "cell_type": "code",
   "execution_count": 3,
   "metadata": {},
   "outputs": [
    {
     "data": {
      "text/plain": [
       "-0.5"
      ]
     },
     "execution_count": 3,
     "metadata": {},
     "output_type": "execute_result"
    }
   ],
   "source": [
    "wiki.sentiment.polarity"
   ]
  },
  {
   "cell_type": "markdown",
   "metadata": {},
   "source": [
    "## Now the twitter sentiment analyzer"
   ]
  },
  {
   "cell_type": "code",
   "execution_count": 5,
   "metadata": {},
   "outputs": [
    {
     "name": "stdout",
     "output_type": "stream",
     "text": [
      "#Mexico Todos ellos mexicanos, de excelente sabor y muy refrescantes.\n",
      "\n",
      "¿Cuál es tu favorito y qué sabor? El mio las… https://t.co/yX4VS4cryi\n",
      "Sentiment(polarity=0.0, subjectivity=0.0)\n",
      "--------------------------\n",
      "Yo no soy de México pero me siento tan feliz que Camila llegue a su segunda tierra, me siento como si viniera a mi… https://t.co/Z0i87F29aI\n",
      "Sentiment(polarity=0.0, subjectivity=0.0)\n",
      "--------------------------\n",
      "RT @HistoriaEnFotos: Esta historia es lo más bonito que verás hoy: En el Instituto Tecnológico Superior de Pátzcuaro, en México, adoptaron…\n",
      "Sentiment(polarity=0.7, subjectivity=0.9)\n",
      "--------------------------\n",
      "Periodistas en México @Orantes_Monero https://t.co/5y3sCI5m64\n",
      "Sentiment(polarity=0.0, subjectivity=0.0)\n",
      "--------------------------\n",
      "QUE PENDEJOS SOMOS EN MÉXICO, EN LUGAR DE LEGALIZAR Y HACER NEGOCIO CON LA MARIGUANA, COMO LO ESTÁN HACIENDO EN EU,… https://t.co/3vp7EO8wVn\n",
      "Sentiment(polarity=0.0, subjectivity=0.0)\n",
      "--------------------------\n",
      "RT @CCamilizersMX: Que si llegó, que si no llegó jajaja eso no importa, sigamos usando #BienvenidaACasaCamila porque estamos felices al sab…\n",
      "Sentiment(polarity=0.0, subjectivity=0.0)\n",
      "--------------------------\n",
      "RT @carol18ing: @Mamba4F92 Se te pasó mencionar q México es el 1 en distribución de la misma.... Pero el Narco Estado lo tenemos nosotros 🤔…\n",
      "Sentiment(polarity=0.0, subjectivity=0.0)\n",
      "--------------------------\n",
      "RT @HistoriaEnFotos: Esta historia es lo más bonito que verás hoy: En el Instituto Tecnológico Superior de Pátzcuaro, en México, adoptaron…\n",
      "Sentiment(polarity=0.7, subjectivity=0.9)\n",
      "--------------------------\n",
      "RT @adn40: #LoMásLeído | Es tiempo de ver las hojas de los árboles caer por la llegada del #Otoño2018 \n",
      "\n",
      "https://t.co/3gcKn06NNk\n",
      "Sentiment(polarity=0.0, subjectivity=0.0)\n",
      "--------------------------\n",
      "RT @MSNMex: La revista Proceso exhibe la fortuna de Mancera https://t.co/npwAmrYhlD\n",
      "Sentiment(polarity=0.0, subjectivity=0.0)\n",
      "--------------------------\n",
      "RT @mexicancamiIa: NO MAMEEEEEN, CAMILA YA ESTÁ EN MÉXICO Y NO PUEDO DE LA PINCHE EMOCIÓN. 🇲🇽❤️\n",
      "\n",
      "#BienvenidaACasaCamila\n",
      "Sentiment(polarity=0.0, subjectivity=0.0)\n",
      "--------------------------\n",
      "RT @la_patilla: Venezolano Rodolfo Barráez entre los finalistas al premio de dirección de orquesta en México https://t.co/w1hZIMFmPS…\n",
      "Sentiment(polarity=0.0, subjectivity=0.0)\n",
      "--------------------------\n",
      "RT @GuerrillaZK: “Embajadas de Colombia, Chile y México en Caracas deben aclarar sobre posible participación en apoyo a terroristas que per…\n",
      "Sentiment(polarity=0.0, subjectivity=0.0)\n",
      "--------------------------\n",
      "RT @daydreamallyx: #BienvenidaACasaCamila Bienvenida al lugar donde está la otra mitad de tu corazón, el lugar con las mejores playas y la…\n",
      "Sentiment(polarity=0.0, subjectivity=0.0)\n",
      "--------------------------\n",
      "RT @pablinski07: @LyreVanKruznik En México es beber cerveza, trago o algún licor. Es como que dijéramos en El Salvador: “chupar”.\n",
      "Sentiment(polarity=0.0, subjectivity=0.0)\n",
      "--------------------------\n"
     ]
    }
   ],
   "source": [
    "import tweepy\n",
    "from textblob import TextBlob\n",
    "\n",
    "consumer_key = 'cNxggH2fCJMTSK756Pwex7uDz'\n",
    "consumer_secret = 'D1U8mHaeK1MEd3ApN3oB4J9kpTXCA7rMGNAuNvcTSSUKv2zBPo'\n",
    "\n",
    "access_token = '249842830-i3vrXAOwW0ORMqN6L6wgDmbjepfoSm6huqVUwbax'\n",
    "access_token_secret = '3poXWbMmpMEq4Qq0kZzGOQGFUgvDi1PzobfDBBsZc6gSW'\n",
    "\n",
    "auth = tweepy.OAuthHandler(consumer_key, consumer_secret)\n",
    "auth.set_access_token(access_token, access_token_secret)\n",
    "\n",
    "api = tweepy.API(auth)\n",
    "\n",
    "public_tweets = api.search('Mexico')\n",
    "\n",
    "for tweet in public_tweets:\n",
    "    print(tweet.text)\n",
    "    analysis = TextBlob(tweet.text)\n",
    "    print(analysis.sentiment)\n",
    "    print(\"--------------------------\")"
   ]
  }
 ],
 "metadata": {
  "kernelspec": {
   "display_name": "Python 2",
   "language": "python",
   "name": "python2"
  },
  "language_info": {
   "codemirror_mode": {
    "name": "ipython",
    "version": 2
   },
   "file_extension": ".py",
   "mimetype": "text/x-python",
   "name": "python",
   "nbconvert_exporter": "python",
   "pygments_lexer": "ipython2",
   "version": "2.7.12"
  }
 },
 "nbformat": 4,
 "nbformat_minor": 2
}
