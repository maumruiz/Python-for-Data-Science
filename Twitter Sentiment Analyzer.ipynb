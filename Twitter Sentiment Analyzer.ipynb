{
 "cells": [
  {
   "cell_type": "markdown",
   "metadata": {},
   "source": [
    "# Twitter Sentiment Analyzer using the natural language library TextBlob"
   ]
  },
  {
   "cell_type": "markdown",
   "metadata": {},
   "source": [
    "## First, a textblob demo"
   ]
  },
  {
   "cell_type": "code",
   "execution_count": 1,
   "metadata": {},
   "outputs": [
    {
     "data": {
      "text/plain": [
       "[('Mauricio', u'NNP'),\n",
       " ('is', u'VBZ'),\n",
       " ('angry', u'JJ'),\n",
       " ('because', u'IN'),\n",
       " ('he', u'PRP'),\n",
       " ('has', u'VBZ'),\n",
       " ('not', u'RB'),\n",
       " ('eaten', u'VBN'),\n",
       " ('all', u'DT'),\n",
       " ('day', u'NN')]"
      ]
     },
     "execution_count": 1,
     "metadata": {},
     "output_type": "execute_result"
    }
   ],
   "source": [
    "from textblob import TextBlob\n",
    "wiki = TextBlob(\"Mauricio is angry because he has not eaten all day\")\n",
    "\n",
    "wiki.tags"
   ]
  },
  {
   "cell_type": "code",
   "execution_count": 2,
   "metadata": {},
   "outputs": [
    {
     "data": {
      "text/plain": [
       "WordList(['Mauricio', 'is', 'angry', 'because', 'he', 'has', 'not', 'eaten', 'all', 'day'])"
      ]
     },
     "execution_count": 2,
     "metadata": {},
     "output_type": "execute_result"
    }
   ],
   "source": [
    "wiki.words"
   ]
  },
  {
   "cell_type": "code",
   "execution_count": 3,
   "metadata": {},
   "outputs": [
    {
     "data": {
      "text/plain": [
       "-0.5"
      ]
     },
     "execution_count": 3,
     "metadata": {},
     "output_type": "execute_result"
    }
   ],
   "source": [
    "wiki.sentiment.polarity"
   ]
  },
  {
   "cell_type": "markdown",
   "metadata": {},
   "source": [
    "## Now the twitter sentiment analyzer"
   ]
  },
  {
   "cell_type": "code",
   "execution_count": 10,
   "metadata": {},
   "outputs": [
    {
     "name": "stdout",
     "output_type": "stream",
     "text": [
      "In Japan, an artificial intelligence has been appointed creative director \n",
      " https://t.co/xnxrUR5c0j\n",
      "Sentiment(polarity=-0.04999999999999999, subjectivity=1.0)\n",
      "--------------------------\n",
      "RT @svatsa: Very apt topic for @OfficeOfRG his intelligence is artificial and superficial. May be he thinks Congress can get a machine as n…\n",
      "Sentiment(polarity=0.09000000000000002, subjectivity=1.0)\n",
      "--------------------------\n",
      "RT @DeepLearn007: AI: Artificial intelligence is redefining corporate finance\n",
      "#I #MachineLearning #Fintech #ML #tech \n",
      "https://t.co/ybLjUygR…\n",
      "Sentiment(polarity=-0.3, subjectivity=0.5)\n",
      "--------------------------\n",
      "Artificial + Intelligence = Rahul Gandhi 😁😂\n",
      "Sentiment(polarity=-0.6, subjectivity=1.0)\n",
      "--------------------------\n",
      "RT @erikbryn: \"The one who becomes the leader in this sphere will be the ruler of the world,\" - Vladimir Putin speaking about AI\n",
      "\n",
      "https://t…\n",
      "Sentiment(polarity=0.0, subjectivity=0.0)\n",
      "--------------------------\n",
      "RT @ThomasFrey: Artificial intelligence will create new kinds of work https://t.co/Ac0NdJiKNe\n",
      "Sentiment(polarity=-0.2318181818181818, subjectivity=0.7272727272727273)\n",
      "--------------------------\n",
      "AI: Artificial intelligence is redefining corporate finance\n",
      "#I #MachineLearning #Fintech #ML #tech… https://t.co/FumGRSddp7\n",
      "Sentiment(polarity=-0.3, subjectivity=0.5)\n",
      "--------------------------\n",
      "@dna He hasn't got any natural intelligence and he'll speak on artificial intelligence! Interesting 😜\n",
      "https://t.co/jN92LFuhLg\n",
      "Sentiment(polarity=-0.05000000000000001, subjectivity=0.6333333333333333)\n",
      "--------------------------\n",
      "RT @Ra_Bies: A naturally stupid person speaking on Artificial Intelligence will be fun https://t.co/c2YukMBKtC\n",
      "Sentiment(polarity=-0.36666666666666664, subjectivity=0.7333333333333334)\n",
      "--------------------------\n",
      "RT @Ra_Bies: A naturally stupid person speaking on Artificial Intelligence will be fun https://t.co/c2YukMBKtC\n",
      "Sentiment(polarity=-0.36666666666666664, subjectivity=0.7333333333333334)\n",
      "--------------------------\n",
      "RT @FrustIndian: Rahul Gandhi is the best candidate to speak on Artificial intelligence because he lacks the natural intelligence.\n",
      "Sentiment(polarity=0.16666666666666666, subjectivity=0.5666666666666668)\n",
      "--------------------------\n",
      "Mankind is far less likely to meet a highly intelligent biological alien civilization than we are to meet an artificial intelligence origin…\n",
      "Sentiment(polarity=-0.01944444444444443, subjectivity=0.7861111111111111)\n",
      "--------------------------\n",
      "10 signs you’re ready for AI — but might not succeed https://t.co/gNDcRIBBnN #BigData #ArtificialIntelligence #AI https://t.co/uc6ZlJQYov\n",
      "Sentiment(polarity=0.2, subjectivity=0.5)\n",
      "--------------------------\n",
      "#news Artificial Intelligence and Job Fears Lead to Calls for Universal Pay https://t.co/z2vQnfk2Sr https://t.co/P1RGah9PUl\n",
      "Sentiment(polarity=-0.3, subjectivity=0.5)\n",
      "--------------------------\n",
      "Rahul Gandhi to visit US to talk about Artificial Intelligence https://t.co/tbMtTbkzLB\n",
      "Sentiment(polarity=-0.6, subjectivity=1.0)\n",
      "--------------------------\n"
     ]
    }
   ],
   "source": [
    "import tweepy\n",
    "from textblob import TextBlob\n",
    "\n",
    "consumer_key = 'cNxggH2fCJMTSK756Pwex7uDz'\n",
    "consumer_secret = 'D1U8mHaeK1MEd3ApN3oB4J9kpTXCA7rMGNAuNvcTSSUKv2zBPo'\n",
    "\n",
    "access_token = '249842830-i3vrXAOwW0ORMqN6L6wgDmbjepfoSm6huqVUwbax'\n",
    "access_token_secret = '3poXWbMmpMEq4Qq0kZzGOQGFUgvDi1PzobfDBBsZc6gSW'\n",
    "\n",
    "auth = tweepy.OAuthHandler(consumer_key, consumer_secret)\n",
    "auth.set_access_token(access_token, access_token_secret)\n",
    "\n",
    "api = tweepy.API(auth)\n",
    "\n",
    "public_tweets = api.search('artificial intelligence')\n",
    "\n",
    "for tweet in public_tweets:\n",
    "    print(tweet.text)\n",
    "    analysis = TextBlob(tweet.text)\n",
    "    print(analysis.sentiment)\n",
    "    print(\"--------------------------\")"
   ]
  }
 ],
 "metadata": {
  "kernelspec": {
   "display_name": "Python 2",
   "language": "python",
   "name": "python2"
  },
  "language_info": {
   "codemirror_mode": {
    "name": "ipython",
    "version": 2
   },
   "file_extension": ".py",
   "mimetype": "text/x-python",
   "name": "python",
   "nbconvert_exporter": "python",
   "pygments_lexer": "ipython2",
   "version": "2.7.12"
  }
 },
 "nbformat": 4,
 "nbformat_minor": 2
}
